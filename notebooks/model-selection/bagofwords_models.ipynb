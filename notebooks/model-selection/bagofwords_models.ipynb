{
 "cells": [
  {
   "cell_type": "code",
   "execution_count": 1,
   "id": "7e1ca4d5",
   "metadata": {},
   "outputs": [],
   "source": [
    "import re\n",
    "import pandas as pd\n",
    "import numpy as np\n",
    "\n",
    "from sklearn.feature_extraction.text import CountVectorizer\n",
    "from sklearn.preprocessing import LabelEncoder\n",
    "from sklearn.svm import LinearSVC, SVC\n",
    "from sklearn.naive_bayes import GaussianNB\n",
    "from sklearn.ensemble import GradientBoostingClassifier\n",
    "\n",
    "import time\n",
    "from sklearn.metrics import accuracy_score, confusion_matrix, f1_score\n",
    "\n",
    "import matplotlib.pyplot as plt\n",
    "import seaborn as sns\n",
    "sns.set_style(\"whitegrid\")"
   ]
  },
  {
   "cell_type": "code",
   "execution_count": 2,
   "id": "f22ad401",
   "metadata": {},
   "outputs": [
    {
     "data": {
      "text/plain": [
       "(28614, 2)"
      ]
     },
     "metadata": {},
     "output_type": "display_data"
    },
    {
     "data": {
      "text/html": [
       "<div>\n",
       "<style scoped>\n",
       "    .dataframe tbody tr th:only-of-type {\n",
       "        vertical-align: middle;\n",
       "    }\n",
       "\n",
       "    .dataframe tbody tr th {\n",
       "        vertical-align: top;\n",
       "    }\n",
       "\n",
       "    .dataframe thead th {\n",
       "        text-align: right;\n",
       "    }\n",
       "</style>\n",
       "<table border=\"1\" class=\"dataframe\">\n",
       "  <thead>\n",
       "    <tr style=\"text-align: right;\">\n",
       "      <th></th>\n",
       "      <th>clean_tweet</th>\n",
       "      <th>cyberbullying_type</th>\n",
       "    </tr>\n",
       "  </thead>\n",
       "  <tbody>\n",
       "    <tr>\n",
       "      <th>0</th>\n",
       "      <td>hate ppl high school used bully hot omg love m...</td>\n",
       "      <td>age</td>\n",
       "    </tr>\n",
       "    <tr>\n",
       "      <th>1</th>\n",
       "      <td>kat andre asshole omg mkr</td>\n",
       "      <td>not_cyberbullying</td>\n",
       "    </tr>\n",
       "    <tr>\n",
       "      <th>2</th>\n",
       "      <td>new access trading cause need high level opini...</td>\n",
       "      <td>age</td>\n",
       "    </tr>\n",
       "    <tr>\n",
       "      <th>3</th>\n",
       "      <td>fuck david duke racist think america belong du...</td>\n",
       "      <td>ethnicity</td>\n",
       "    </tr>\n",
       "    <tr>\n",
       "      <th>4</th>\n",
       "      <td>may say lot hate apologetic army hope choke ev...</td>\n",
       "      <td>other_cyberbullying</td>\n",
       "    </tr>\n",
       "  </tbody>\n",
       "</table>\n",
       "</div>"
      ],
      "text/plain": [
       "                                         clean_tweet   cyberbullying_type\n",
       "0  hate ppl high school used bully hot omg love m...                  age\n",
       "1                          kat andre asshole omg mkr    not_cyberbullying\n",
       "2  new access trading cause need high level opini...                  age\n",
       "3  fuck david duke racist think america belong du...            ethnicity\n",
       "4  may say lot hate apologetic army hope choke ev...  other_cyberbullying"
      ]
     },
     "metadata": {},
     "output_type": "display_data"
    },
    {
     "data": {
      "text/html": [
       "<div>\n",
       "<style scoped>\n",
       "    .dataframe tbody tr th:only-of-type {\n",
       "        vertical-align: middle;\n",
       "    }\n",
       "\n",
       "    .dataframe tbody tr th {\n",
       "        vertical-align: top;\n",
       "    }\n",
       "\n",
       "    .dataframe thead th {\n",
       "        text-align: right;\n",
       "    }\n",
       "</style>\n",
       "<table border=\"1\" class=\"dataframe\">\n",
       "  <thead>\n",
       "    <tr style=\"text-align: right;\">\n",
       "      <th></th>\n",
       "      <th>clean_tweet</th>\n",
       "      <th>cyberbullying_type</th>\n",
       "    </tr>\n",
       "  </thead>\n",
       "  <tbody>\n",
       "    <tr>\n",
       "      <th>787</th>\n",
       "      <td>carrie dir brian palma unpopular friendless mi...</td>\n",
       "      <td>age</td>\n",
       "    </tr>\n",
       "    <tr>\n",
       "      <th>21207</th>\n",
       "      <td>dwayne wade cousin get killed blame trump inst...</td>\n",
       "      <td>ethnicity</td>\n",
       "    </tr>\n",
       "    <tr>\n",
       "      <th>3922</th>\n",
       "      <td>publicly apologize people bullied high school ...</td>\n",
       "      <td>age</td>\n",
       "    </tr>\n",
       "    <tr>\n",
       "      <th>6345</th>\n",
       "      <td>correct woman fighting right treated thinking ...</td>\n",
       "      <td>religion</td>\n",
       "    </tr>\n",
       "    <tr>\n",
       "      <th>28562</th>\n",
       "      <td>dumb nigger cincy fuck look face whitepower</td>\n",
       "      <td>ethnicity</td>\n",
       "    </tr>\n",
       "  </tbody>\n",
       "</table>\n",
       "</div>"
      ],
      "text/plain": [
       "                                             clean_tweet cyberbullying_type\n",
       "787    carrie dir brian palma unpopular friendless mi...                age\n",
       "21207  dwayne wade cousin get killed blame trump inst...          ethnicity\n",
       "3922   publicly apologize people bullied high school ...                age\n",
       "6345   correct woman fighting right treated thinking ...           religion\n",
       "28562        dumb nigger cincy fuck look face whitepower          ethnicity"
      ]
     },
     "metadata": {},
     "output_type": "display_data"
    }
   ],
   "source": [
    "df_train = pd.read_csv(r'C:\\Users\\Checkout\\Downloads\\cyberbullying-classification-master\\data\\train_data.csv')\n",
    "\n",
    "display(df_train.shape)\n",
    "\n",
    "display(df_train.head())\n",
    "\n",
    "display(df_train.sample(5))\n"
   ]
  },
  {
   "cell_type": "code",
   "execution_count": 14,
   "id": "c20b2e76",
   "metadata": {},
   "outputs": [],
   "source": [
    "import pickle\n",
    "\n",
    "cv1 = pickle.load(open(\"cv.pickel\", \"rb\"))\n"
   ]
  },
  {
   "cell_type": "code",
   "execution_count": 15,
   "id": "ad366c6f",
   "metadata": {},
   "outputs": [
    {
     "name": "stdout",
     "output_type": "stream",
     "text": [
      "(28614,) (28614,)\n"
     ]
    },
    {
     "data": {
      "text/plain": [
       "(28614, 100)"
      ]
     },
     "metadata": {},
     "output_type": "display_data"
    },
    {
     "name": "stdout",
     "output_type": "stream",
     "text": [
      "<class 'numpy.ndarray'>\n"
     ]
    }
   ],
   "source": [
    "X_train = df_train.clean_tweet\n",
    "Y_train = df_train.cyberbullying_type\n",
    "\n",
    "print(X_train.shape, Y_train.shape)\n",
    "\n",
    "\n",
    "#we have to use fit_transform for train data and use only transform for validation data\n",
    "X_train_cv = cv1.fit_transform(df_train['clean_tweet'].values.astype('U'))\n",
    "\n",
    "X_train_cv = X_train_cv.toarray()\n",
    "\n",
    "display(X_train_cv.shape)\n",
    "\n",
    "print(type(X_train_cv))\n",
    "\n",
    "le = LabelEncoder()\n",
    "\n",
    "Y_train_le = pd.DataFrame(le.fit_transform(Y_train), columns=['encoded_cyberbullying_type'])\n",
    "\n",
    "map_labels = pd.DataFrame(\n",
    "    {\n",
    "        'labels': le.classes_,\n",
    "        'encoded_labels': le.transform(le.classes_)\n",
    "    },\n",
    "    columns=['labels', 'encoded_labels']\n",
    ")\n",
    "\n"
   ]
  },
  {
   "cell_type": "code",
   "execution_count": 16,
   "id": "38eaa7ca",
   "metadata": {},
   "outputs": [
    {
     "data": {
      "text/plain": [
       "(28614, 2)"
      ]
     },
     "metadata": {},
     "output_type": "display_data"
    },
    {
     "data": {
      "text/plain": [
       "gender                 4795\n",
       "not_cyberbullying      4792\n",
       "religion               4791\n",
       "age                    4786\n",
       "ethnicity              4766\n",
       "other_cyberbullying    4684\n",
       "Name: cyberbullying_type, dtype: int64"
      ]
     },
     "metadata": {},
     "output_type": "display_data"
    },
    {
     "data": {
      "text/html": [
       "<div>\n",
       "<style scoped>\n",
       "    .dataframe tbody tr th:only-of-type {\n",
       "        vertical-align: middle;\n",
       "    }\n",
       "\n",
       "    .dataframe tbody tr th {\n",
       "        vertical-align: top;\n",
       "    }\n",
       "\n",
       "    .dataframe thead th {\n",
       "        text-align: right;\n",
       "    }\n",
       "</style>\n",
       "<table border=\"1\" class=\"dataframe\">\n",
       "  <thead>\n",
       "    <tr style=\"text-align: right;\">\n",
       "      <th></th>\n",
       "      <th>clean_tweet</th>\n",
       "      <th>cyberbullying_type</th>\n",
       "    </tr>\n",
       "  </thead>\n",
       "  <tbody>\n",
       "    <tr>\n",
       "      <th>0</th>\n",
       "      <td>hate ppl high school used bully hot omg love m...</td>\n",
       "      <td>age</td>\n",
       "    </tr>\n",
       "    <tr>\n",
       "      <th>1</th>\n",
       "      <td>kat andre asshole omg mkr</td>\n",
       "      <td>not_cyberbullying</td>\n",
       "    </tr>\n",
       "    <tr>\n",
       "      <th>2</th>\n",
       "      <td>new access trading cause need high level opini...</td>\n",
       "      <td>age</td>\n",
       "    </tr>\n",
       "    <tr>\n",
       "      <th>3</th>\n",
       "      <td>fuck david duke racist think america belong du...</td>\n",
       "      <td>ethnicity</td>\n",
       "    </tr>\n",
       "    <tr>\n",
       "      <th>4</th>\n",
       "      <td>may say lot hate apologetic army hope choke ev...</td>\n",
       "      <td>other_cyberbullying</td>\n",
       "    </tr>\n",
       "  </tbody>\n",
       "</table>\n",
       "</div>"
      ],
      "text/plain": [
       "                                         clean_tweet   cyberbullying_type\n",
       "0  hate ppl high school used bully hot omg love m...                  age\n",
       "1                          kat andre asshole omg mkr    not_cyberbullying\n",
       "2  new access trading cause need high level opini...                  age\n",
       "3  fuck david duke racist think america belong du...            ethnicity\n",
       "4  may say lot hate apologetic army hope choke ev...  other_cyberbullying"
      ]
     },
     "execution_count": 16,
     "metadata": {},
     "output_type": "execute_result"
    }
   ],
   "source": [
    "df_valid = pd.read_csv(r'C:\\Users\\Checkout\\Downloads\\cyberbullying-classification-master\\data\\train_data.csv')\n",
    "\n",
    "display(df_valid.shape)\n",
    "\n",
    "display(df_valid['cyberbullying_type'].value_counts())\n",
    "\n",
    "\n",
    "df_valid.head()\n"
   ]
  },
  {
   "cell_type": "code",
   "execution_count": null,
   "id": "efab67e4",
   "metadata": {},
   "outputs": [],
   "source": []
  },
  {
   "cell_type": "code",
   "execution_count": 17,
   "id": "59fad85a",
   "metadata": {},
   "outputs": [
    {
     "name": "stdout",
     "output_type": "stream",
     "text": [
      "(28614,) (28614,)\n"
     ]
    },
    {
     "data": {
      "text/plain": [
       "(28614, 100)"
      ]
     },
     "metadata": {},
     "output_type": "display_data"
    }
   ],
   "source": [
    "X_valid = df_valid.clean_tweet\n",
    "Y_valid = df_valid.cyberbullying_type\n",
    "\n",
    "print(X_valid.shape, Y_valid.shape)\n",
    "\n",
    "X_valid_cv = cv1.fit_transform(df_valid['clean_tweet'].values.astype('U'))\n",
    "\n",
    "display(X_valid_cv.shape)\n",
    "X_valid_cv = X_valid_cv.toarray()\n",
    "\n",
    "Y_valid_le = pd.DataFrame(le.fit_transform(Y_valid), columns=['encoded_cyberbullying_type'])"
   ]
  },
  {
   "cell_type": "code",
   "execution_count": 18,
   "id": "474f6d5d",
   "metadata": {},
   "outputs": [
    {
     "name": "stderr",
     "output_type": "stream",
     "text": [
      "C:\\Users\\Checkout\\anaconda3\\lib\\site-packages\\sklearn\\svm\\_base.py:985: ConvergenceWarning: Liblinear failed to converge, increase the number of iterations.\n",
      "  warnings.warn(\"Liblinear failed to converge, increase \"\n"
     ]
    },
    {
     "data": {
      "text/html": [
       "<div>\n",
       "<style scoped>\n",
       "    .dataframe tbody tr th:only-of-type {\n",
       "        vertical-align: middle;\n",
       "    }\n",
       "\n",
       "    .dataframe tbody tr th {\n",
       "        vertical-align: top;\n",
       "    }\n",
       "\n",
       "    .dataframe thead th {\n",
       "        text-align: right;\n",
       "    }\n",
       "</style>\n",
       "<table border=\"1\" class=\"dataframe\">\n",
       "  <thead>\n",
       "    <tr style=\"text-align: right;\">\n",
       "      <th></th>\n",
       "      <th>Time (seconds)</th>\n",
       "    </tr>\n",
       "  </thead>\n",
       "  <tbody>\n",
       "    <tr>\n",
       "      <th>Gaussian Naive Bayes</th>\n",
       "      <td>0.077147</td>\n",
       "    </tr>\n",
       "    <tr>\n",
       "      <th>Linear SVM</th>\n",
       "      <td>2.568190</td>\n",
       "    </tr>\n",
       "    <tr>\n",
       "      <th>Kernel SVM</th>\n",
       "      <td>80.263761</td>\n",
       "    </tr>\n",
       "    <tr>\n",
       "      <th>XGBoost</th>\n",
       "      <td>123.879935</td>\n",
       "    </tr>\n",
       "  </tbody>\n",
       "</table>\n",
       "</div>"
      ],
      "text/plain": [
       "                      Time (seconds)\n",
       "Gaussian Naive Bayes        0.077147\n",
       "Linear SVM                  2.568190\n",
       "Kernel SVM                 80.263761\n",
       "XGBoost                   123.879935"
      ]
     },
     "metadata": {},
     "output_type": "display_data"
    },
    {
     "data": {
      "text/html": [
       "<div>\n",
       "<style scoped>\n",
       "    .dataframe tbody tr th:only-of-type {\n",
       "        vertical-align: middle;\n",
       "    }\n",
       "\n",
       "    .dataframe tbody tr th {\n",
       "        vertical-align: top;\n",
       "    }\n",
       "\n",
       "    .dataframe thead th {\n",
       "        text-align: right;\n",
       "    }\n",
       "</style>\n",
       "<table border=\"1\" class=\"dataframe\">\n",
       "  <thead>\n",
       "    <tr style=\"text-align: right;\">\n",
       "      <th></th>\n",
       "      <th>Accuracy</th>\n",
       "    </tr>\n",
       "  </thead>\n",
       "  <tbody>\n",
       "    <tr>\n",
       "      <th>Gaussian Naive Bayes</th>\n",
       "      <td>0.730342</td>\n",
       "    </tr>\n",
       "    <tr>\n",
       "      <th>Linear SVM</th>\n",
       "      <td>0.803802</td>\n",
       "    </tr>\n",
       "    <tr>\n",
       "      <th>Kernel SVM</th>\n",
       "      <td>0.822639</td>\n",
       "    </tr>\n",
       "    <tr>\n",
       "      <th>XGBoost</th>\n",
       "      <td>0.813832</td>\n",
       "    </tr>\n",
       "  </tbody>\n",
       "</table>\n",
       "</div>"
      ],
      "text/plain": [
       "                      Accuracy\n",
       "Gaussian Naive Bayes  0.730342\n",
       "Linear SVM            0.803802\n",
       "Kernel SVM            0.822639\n",
       "XGBoost               0.813832"
      ]
     },
     "metadata": {},
     "output_type": "display_data"
    },
    {
     "data": {
      "text/html": [
       "<div>\n",
       "<style scoped>\n",
       "    .dataframe tbody tr th:only-of-type {\n",
       "        vertical-align: middle;\n",
       "    }\n",
       "\n",
       "    .dataframe tbody tr th {\n",
       "        vertical-align: top;\n",
       "    }\n",
       "\n",
       "    .dataframe thead th {\n",
       "        text-align: right;\n",
       "    }\n",
       "</style>\n",
       "<table border=\"1\" class=\"dataframe\">\n",
       "  <thead>\n",
       "    <tr style=\"text-align: right;\">\n",
       "      <th></th>\n",
       "      <th>Gaussian Naive Bayes</th>\n",
       "      <th>Linear SVM</th>\n",
       "      <th>Kernel SVM</th>\n",
       "      <th>XGBoost</th>\n",
       "    </tr>\n",
       "  </thead>\n",
       "  <tbody>\n",
       "    <tr>\n",
       "      <th>age</th>\n",
       "      <td>0.819663</td>\n",
       "      <td>0.969253</td>\n",
       "      <td>0.984817</td>\n",
       "      <td>0.982320</td>\n",
       "    </tr>\n",
       "    <tr>\n",
       "      <th>ethnicity</th>\n",
       "      <td>0.922629</td>\n",
       "      <td>0.967206</td>\n",
       "      <td>0.987735</td>\n",
       "      <td>0.986889</td>\n",
       "    </tr>\n",
       "    <tr>\n",
       "      <th>gender</th>\n",
       "      <td>0.806074</td>\n",
       "      <td>0.831130</td>\n",
       "      <td>0.844269</td>\n",
       "      <td>0.837118</td>\n",
       "    </tr>\n",
       "    <tr>\n",
       "      <th>not_cyberbullying</th>\n",
       "      <td>0.234223</td>\n",
       "      <td>0.451789</td>\n",
       "      <td>0.508186</td>\n",
       "      <td>0.475454</td>\n",
       "    </tr>\n",
       "    <tr>\n",
       "      <th>other_cyberbullying</th>\n",
       "      <td>0.574015</td>\n",
       "      <td>0.635414</td>\n",
       "      <td>0.658829</td>\n",
       "      <td>0.646913</td>\n",
       "    </tr>\n",
       "    <tr>\n",
       "      <th>religion</th>\n",
       "      <td>0.904752</td>\n",
       "      <td>0.940231</td>\n",
       "      <td>0.944153</td>\n",
       "      <td>0.943283</td>\n",
       "    </tr>\n",
       "  </tbody>\n",
       "</table>\n",
       "</div>"
      ],
      "text/plain": [
       "                     Gaussian Naive Bayes  Linear SVM  Kernel SVM   XGBoost\n",
       "age                              0.819663    0.969253    0.984817  0.982320\n",
       "ethnicity                        0.922629    0.967206    0.987735  0.986889\n",
       "gender                           0.806074    0.831130    0.844269  0.837118\n",
       "not_cyberbullying                0.234223    0.451789    0.508186  0.475454\n",
       "other_cyberbullying              0.574015    0.635414    0.658829  0.646913\n",
       "religion                         0.904752    0.940231    0.944153  0.943283"
      ]
     },
     "metadata": {},
     "output_type": "display_data"
    }
   ],
   "source": [
    "models = {\n",
    "    'Gaussian Naive Bayes': GaussianNB(),\n",
    "    'Linear SVM': LinearSVC(),\n",
    "    'Kernel SVM': SVC(),\n",
    "    'XGBoost': GradientBoostingClassifier()\n",
    "}\n",
    "\n",
    "results = {\n",
    "    'time_to_train': [],\n",
    "    'accuracy': [],\n",
    "    'f1': []\n",
    "}\n",
    "\n",
    "for name, model in list(models.items()):\n",
    "    start_time = time.time()\n",
    "    \n",
    "    model.fit(X_train_cv, Y_train_le.values.ravel())\n",
    "    \n",
    "    end_time = time.time()\n",
    "    \n",
    "    Y_pred = model.predict(X_valid_cv)\n",
    "    \n",
    "    results['time_to_train'].append(end_time - start_time)\n",
    "    results['accuracy'].append(accuracy_score(Y_valid_le, Y_pred))\n",
    "    results['f1'].append(f1_score(Y_valid_le, Y_pred, average=None))\n",
    "    \n",
    "display(pd.DataFrame(results['time_to_train'], index=models.keys(), columns=['Time (seconds)']))\n",
    "\n",
    "display(pd.DataFrame(results['accuracy'], index=models.keys(), columns=['Accuracy']))\n",
    "\n",
    "display(pd.DataFrame(np.asarray(results['f1']).T, columns=models.keys(), index=le.classes_))\n"
   ]
  },
  {
   "cell_type": "code",
   "execution_count": null,
   "id": "445c3346",
   "metadata": {},
   "outputs": [],
   "source": []
  }
 ],
 "metadata": {
  "kernelspec": {
   "display_name": "Python 3 (ipykernel)",
   "language": "python",
   "name": "python3"
  },
  "language_info": {
   "codemirror_mode": {
    "name": "ipython",
    "version": 3
   },
   "file_extension": ".py",
   "mimetype": "text/x-python",
   "name": "python",
   "nbconvert_exporter": "python",
   "pygments_lexer": "ipython3",
   "version": "3.9.7"
  }
 },
 "nbformat": 4,
 "nbformat_minor": 5
}
