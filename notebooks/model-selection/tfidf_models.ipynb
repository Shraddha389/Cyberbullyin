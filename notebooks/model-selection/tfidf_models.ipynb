{
 "cells": [
  {
   "cell_type": "code",
   "execution_count": 1,
   "metadata": {},
   "outputs": [
    {
     "name": "stderr",
     "output_type": "stream",
     "text": [
      "[nltk_data] Downloading package punkt to\n",
      "[nltk_data]     C:\\Users\\NganLuong\\AppData\\Roaming\\nltk_data...\n",
      "[nltk_data]   Package punkt is already up-to-date!\n"
     ]
    },
    {
     "data": {
      "text/plain": [
       "True"
      ]
     },
     "execution_count": 1,
     "metadata": {},
     "output_type": "execute_result"
    }
   ],
   "source": [
    "import nltk\n",
    "nltk.download('punkt')"
   ]
  },
  {
   "cell_type": "code",
   "execution_count": 1,
   "metadata": {},
   "outputs": [],
   "source": [
    "import sys\n",
    "sys.path.insert(0, '../../scripts/')"
   ]
  },
  {
   "cell_type": "code",
   "execution_count": 2,
   "metadata": {},
   "outputs": [],
   "source": [
    "# import required packages\n",
    "import numpy as np\n",
    "import pandas as pd\n",
    "\n",
    "# encoder\n",
    "from sklearn.preprocessing import LabelEncoder\n",
    "from sklearn.feature_extraction.text import TfidfVectorizer\n",
    "\n",
    "# models\n",
    "from sklearn.svm import LinearSVC, SVC\n",
    "from sklearn.naive_bayes import GaussianNB\n",
    "from sklearn.ensemble import GradientBoostingClassifier\n",
    "\n",
    "# metrics\n",
    "import time\n",
    "from sklearn.metrics import accuracy_score, confusion_matrix, f1_score\n",
    "\n",
    "# plots\n",
    "import matplotlib.pyplot as plt\n",
    "import seaborn as sns\n",
    "sns.set_style(\"whitegrid\")\n",
    "\n",
    "# local scripts\n",
    "from text_utils import preprocess_corpus"
   ]
  },
  {
   "cell_type": "code",
   "execution_count": 3,
   "metadata": {},
   "outputs": [],
   "source": [
    "df_train = pd.read_csv(r'../../data/train_data.csv', delimiter=None)\n",
    "df_valid = pd.read_csv(r'../../data/valid_data.csv', delimiter=None)\n",
    "\n",
    "df_valid['clean_tweet'] = preprocess_corpus(df_valid['tweet_text'])\n",
    "\n",
    "Xtr, Ytr = df_train[\"clean_tweet\"], df_train[\"cyberbullying_type\"]\n",
    "Xva, Yva = df_valid[\"clean_tweet\"], df_valid[\"cyberbullying_type\"]"
   ]
  },
  {
   "cell_type": "code",
   "execution_count": 4,
   "metadata": {},
   "outputs": [
    {
     "data": {
      "text/plain": [
       "15483                                   step post facebook\n",
       "8083                    ivicong ikaw nga bully diyan crook\n",
       "25689    bryce girl attacking girl bullied throughout m...\n",
       "5695     say everthing happens reason fuck shit cunt pu...\n",
       "25786                            gay rape joke tony really\n",
       "Name: clean_tweet, dtype: object"
      ]
     },
     "execution_count": 4,
     "metadata": {},
     "output_type": "execute_result"
    }
   ],
   "source": [
    "Xtr.sample(5)"
   ]
  },
  {
   "cell_type": "code",
   "execution_count": 5,
   "metadata": {},
   "outputs": [
    {
     "data": {
      "text/plain": [
       "22772       gender\n",
       "3995        gender\n",
       "18280          age\n",
       "1121     ethnicity\n",
       "15839     religion\n",
       "Name: cyberbullying_type, dtype: object"
      ]
     },
     "execution_count": 5,
     "metadata": {},
     "output_type": "execute_result"
    }
   ],
   "source": [
    "Ytr.sample(5)"
   ]
  },
  {
   "cell_type": "code",
   "execution_count": 6,
   "metadata": {},
   "outputs": [
    {
     "data": {
      "text/plain": [
       "96      found close friend story insta girl bullied hi...\n",
       "1388                praisexoscar nigger youself dumb fuck\n",
       "8967    tpthompson gop rep find gut stand idiot fireth...\n",
       "681              look like lennyfinnegan let cat keyboard\n",
       "9392    tayyoung fuck obama dumb nigger ignorance toda...\n",
       "Name: clean_tweet, dtype: object"
      ]
     },
     "execution_count": 6,
     "metadata": {},
     "output_type": "execute_result"
    }
   ],
   "source": [
    "Xva.sample(5)"
   ]
  },
  {
   "cell_type": "code",
   "execution_count": 7,
   "metadata": {},
   "outputs": [
    {
     "data": {
      "text/plain": [
       "1298    other_cyberbullying\n",
       "988               ethnicity\n",
       "3130                 gender\n",
       "9414              ethnicity\n",
       "1988      not_cyberbullying\n",
       "Name: cyberbullying_type, dtype: object"
      ]
     },
     "execution_count": 7,
     "metadata": {},
     "output_type": "execute_result"
    }
   ],
   "source": [
    "Yva.sample(5)"
   ]
  },
  {
   "cell_type": "code",
   "execution_count": 9,
   "metadata": {},
   "outputs": [],
   "source": [
    "# vectorize tweet texts\n",
    "tv = TfidfVectorizer()\n",
    "\n",
    "vectors = tv.fit_transform(Xtr.values.astype('U'))\n",
    "Xtr_tv = pd.DataFrame(vectors.toarray(), columns=tv.get_feature_names())\n",
    "\n",
    "vectors = tv.transform(Xva.values.astype('U'))\n",
    "Xva_tv = pd.DataFrame(vectors.toarray(), columns=tv.get_feature_names())"
   ]
  },
  {
   "cell_type": "code",
   "execution_count": 24,
   "metadata": {},
   "outputs": [],
   "source": [
    "le = LabelEncoder()\n",
    "\n",
    "Ytr_le = pd.DataFrame(le.fit_transform(Ytr),columns=['encoded_cyberbullying_type'])\n",
    "\n",
    "Yva_le = pd.DataFrame(le.transform(Yva),columns=['encoded_cyberbullying_type'])"
   ]
  },
  {
   "cell_type": "code",
   "execution_count": 25,
   "metadata": {},
   "outputs": [
    {
     "name": "stdout",
     "output_type": "stream",
     "text": [
      "(28614, 36281) (28614, 1)\n",
      "(9539, 36281) (9539, 1)\n"
     ]
    }
   ],
   "source": [
    "print(Xtr_tv.shape, Ytr_le.shape)\n",
    "print(Xva_tv.shape, Yva_le.shape)"
   ]
  },
  {
   "cell_type": "code",
   "execution_count": 26,
   "metadata": {},
   "outputs": [
    {
     "data": {
      "text/html": [
       "<div>\n",
       "<style scoped>\n",
       "    .dataframe tbody tr th:only-of-type {\n",
       "        vertical-align: middle;\n",
       "    }\n",
       "\n",
       "    .dataframe tbody tr th {\n",
       "        vertical-align: top;\n",
       "    }\n",
       "\n",
       "    .dataframe thead th {\n",
       "        text-align: right;\n",
       "    }\n",
       "</style>\n",
       "<table border=\"1\" class=\"dataframe\">\n",
       "  <thead>\n",
       "    <tr style=\"text-align: right;\">\n",
       "      <th></th>\n",
       "      <th>aaa</th>\n",
       "      <th>aaaa</th>\n",
       "      <th>aaaaaaaaaa</th>\n",
       "      <th>aaaaaaaaaaaaaaaaaaaaaah</th>\n",
       "      <th>aaaaaaaaaah</th>\n",
       "      <th>aaaaaaaaaajajajajajajajahahahajahaja</th>\n",
       "      <th>aaaaah</th>\n",
       "      <th>aaaaargh</th>\n",
       "      <th>aaaag</th>\n",
       "      <th>aaaah</th>\n",
       "      <th>...</th>\n",
       "      <th>zusterschap</th>\n",
       "      <th>zvakaoma</th>\n",
       "      <th>zvlahos</th>\n",
       "      <th>zyampii</th>\n",
       "      <th>zyeth</th>\n",
       "      <th>zyme</th>\n",
       "      <th>zynga</th>\n",
       "      <th>zython</th>\n",
       "      <th>zzoegrimm</th>\n",
       "      <th>zzz</th>\n",
       "    </tr>\n",
       "  </thead>\n",
       "  <tbody>\n",
       "    <tr>\n",
       "      <th>11390</th>\n",
       "      <td>0.0</td>\n",
       "      <td>0.0</td>\n",
       "      <td>0.0</td>\n",
       "      <td>0.0</td>\n",
       "      <td>0.0</td>\n",
       "      <td>0.0</td>\n",
       "      <td>0.0</td>\n",
       "      <td>0.0</td>\n",
       "      <td>0.0</td>\n",
       "      <td>0.0</td>\n",
       "      <td>...</td>\n",
       "      <td>0.0</td>\n",
       "      <td>0.0</td>\n",
       "      <td>0.0</td>\n",
       "      <td>0.0</td>\n",
       "      <td>0.0</td>\n",
       "      <td>0.0</td>\n",
       "      <td>0.0</td>\n",
       "      <td>0.0</td>\n",
       "      <td>0.0</td>\n",
       "      <td>0.0</td>\n",
       "    </tr>\n",
       "    <tr>\n",
       "      <th>25731</th>\n",
       "      <td>0.0</td>\n",
       "      <td>0.0</td>\n",
       "      <td>0.0</td>\n",
       "      <td>0.0</td>\n",
       "      <td>0.0</td>\n",
       "      <td>0.0</td>\n",
       "      <td>0.0</td>\n",
       "      <td>0.0</td>\n",
       "      <td>0.0</td>\n",
       "      <td>0.0</td>\n",
       "      <td>...</td>\n",
       "      <td>0.0</td>\n",
       "      <td>0.0</td>\n",
       "      <td>0.0</td>\n",
       "      <td>0.0</td>\n",
       "      <td>0.0</td>\n",
       "      <td>0.0</td>\n",
       "      <td>0.0</td>\n",
       "      <td>0.0</td>\n",
       "      <td>0.0</td>\n",
       "      <td>0.0</td>\n",
       "    </tr>\n",
       "    <tr>\n",
       "      <th>7015</th>\n",
       "      <td>0.0</td>\n",
       "      <td>0.0</td>\n",
       "      <td>0.0</td>\n",
       "      <td>0.0</td>\n",
       "      <td>0.0</td>\n",
       "      <td>0.0</td>\n",
       "      <td>0.0</td>\n",
       "      <td>0.0</td>\n",
       "      <td>0.0</td>\n",
       "      <td>0.0</td>\n",
       "      <td>...</td>\n",
       "      <td>0.0</td>\n",
       "      <td>0.0</td>\n",
       "      <td>0.0</td>\n",
       "      <td>0.0</td>\n",
       "      <td>0.0</td>\n",
       "      <td>0.0</td>\n",
       "      <td>0.0</td>\n",
       "      <td>0.0</td>\n",
       "      <td>0.0</td>\n",
       "      <td>0.0</td>\n",
       "    </tr>\n",
       "    <tr>\n",
       "      <th>12945</th>\n",
       "      <td>0.0</td>\n",
       "      <td>0.0</td>\n",
       "      <td>0.0</td>\n",
       "      <td>0.0</td>\n",
       "      <td>0.0</td>\n",
       "      <td>0.0</td>\n",
       "      <td>0.0</td>\n",
       "      <td>0.0</td>\n",
       "      <td>0.0</td>\n",
       "      <td>0.0</td>\n",
       "      <td>...</td>\n",
       "      <td>0.0</td>\n",
       "      <td>0.0</td>\n",
       "      <td>0.0</td>\n",
       "      <td>0.0</td>\n",
       "      <td>0.0</td>\n",
       "      <td>0.0</td>\n",
       "      <td>0.0</td>\n",
       "      <td>0.0</td>\n",
       "      <td>0.0</td>\n",
       "      <td>0.0</td>\n",
       "    </tr>\n",
       "    <tr>\n",
       "      <th>12492</th>\n",
       "      <td>0.0</td>\n",
       "      <td>0.0</td>\n",
       "      <td>0.0</td>\n",
       "      <td>0.0</td>\n",
       "      <td>0.0</td>\n",
       "      <td>0.0</td>\n",
       "      <td>0.0</td>\n",
       "      <td>0.0</td>\n",
       "      <td>0.0</td>\n",
       "      <td>0.0</td>\n",
       "      <td>...</td>\n",
       "      <td>0.0</td>\n",
       "      <td>0.0</td>\n",
       "      <td>0.0</td>\n",
       "      <td>0.0</td>\n",
       "      <td>0.0</td>\n",
       "      <td>0.0</td>\n",
       "      <td>0.0</td>\n",
       "      <td>0.0</td>\n",
       "      <td>0.0</td>\n",
       "      <td>0.0</td>\n",
       "    </tr>\n",
       "  </tbody>\n",
       "</table>\n",
       "<p>5 rows × 36281 columns</p>\n",
       "</div>"
      ],
      "text/plain": [
       "       aaa  aaaa  aaaaaaaaaa  aaaaaaaaaaaaaaaaaaaaaah  aaaaaaaaaah  \\\n",
       "11390  0.0   0.0         0.0                      0.0          0.0   \n",
       "25731  0.0   0.0         0.0                      0.0          0.0   \n",
       "7015   0.0   0.0         0.0                      0.0          0.0   \n",
       "12945  0.0   0.0         0.0                      0.0          0.0   \n",
       "12492  0.0   0.0         0.0                      0.0          0.0   \n",
       "\n",
       "       aaaaaaaaaajajajajajajajahahahajahaja  aaaaah  aaaaargh  aaaag  aaaah  \\\n",
       "11390                                   0.0     0.0       0.0    0.0    0.0   \n",
       "25731                                   0.0     0.0       0.0    0.0    0.0   \n",
       "7015                                    0.0     0.0       0.0    0.0    0.0   \n",
       "12945                                   0.0     0.0       0.0    0.0    0.0   \n",
       "12492                                   0.0     0.0       0.0    0.0    0.0   \n",
       "\n",
       "       ...  zusterschap  zvakaoma  zvlahos  zyampii  zyeth  zyme  zynga  \\\n",
       "11390  ...          0.0       0.0      0.0      0.0    0.0   0.0    0.0   \n",
       "25731  ...          0.0       0.0      0.0      0.0    0.0   0.0    0.0   \n",
       "7015   ...          0.0       0.0      0.0      0.0    0.0   0.0    0.0   \n",
       "12945  ...          0.0       0.0      0.0      0.0    0.0   0.0    0.0   \n",
       "12492  ...          0.0       0.0      0.0      0.0    0.0   0.0    0.0   \n",
       "\n",
       "       zython  zzoegrimm  zzz  \n",
       "11390     0.0        0.0  0.0  \n",
       "25731     0.0        0.0  0.0  \n",
       "7015      0.0        0.0  0.0  \n",
       "12945     0.0        0.0  0.0  \n",
       "12492     0.0        0.0  0.0  \n",
       "\n",
       "[5 rows x 36281 columns]"
      ]
     },
     "execution_count": 26,
     "metadata": {},
     "output_type": "execute_result"
    }
   ],
   "source": [
    "Xtr_tv.sample(5)"
   ]
  },
  {
   "cell_type": "code",
   "execution_count": 27,
   "metadata": {},
   "outputs": [
    {
     "data": {
      "text/html": [
       "<div>\n",
       "<style scoped>\n",
       "    .dataframe tbody tr th:only-of-type {\n",
       "        vertical-align: middle;\n",
       "    }\n",
       "\n",
       "    .dataframe tbody tr th {\n",
       "        vertical-align: top;\n",
       "    }\n",
       "\n",
       "    .dataframe thead th {\n",
       "        text-align: right;\n",
       "    }\n",
       "</style>\n",
       "<table border=\"1\" class=\"dataframe\">\n",
       "  <thead>\n",
       "    <tr style=\"text-align: right;\">\n",
       "      <th></th>\n",
       "      <th>encoded_cyberbullying_type</th>\n",
       "    </tr>\n",
       "  </thead>\n",
       "  <tbody>\n",
       "    <tr>\n",
       "      <th>2233</th>\n",
       "      <td>4</td>\n",
       "    </tr>\n",
       "    <tr>\n",
       "      <th>385</th>\n",
       "      <td>1</td>\n",
       "    </tr>\n",
       "    <tr>\n",
       "      <th>26203</th>\n",
       "      <td>4</td>\n",
       "    </tr>\n",
       "    <tr>\n",
       "      <th>23900</th>\n",
       "      <td>0</td>\n",
       "    </tr>\n",
       "    <tr>\n",
       "      <th>21382</th>\n",
       "      <td>5</td>\n",
       "    </tr>\n",
       "  </tbody>\n",
       "</table>\n",
       "</div>"
      ],
      "text/plain": [
       "       encoded_cyberbullying_type\n",
       "2233                            4\n",
       "385                             1\n",
       "26203                           4\n",
       "23900                           0\n",
       "21382                           5"
      ]
     },
     "execution_count": 27,
     "metadata": {},
     "output_type": "execute_result"
    }
   ],
   "source": [
    "Ytr_le.sample(5)"
   ]
  },
  {
   "cell_type": "code",
   "execution_count": null,
   "metadata": {},
   "outputs": [],
   "source": [
    "models = {\n",
    "    'Gaussian Naive Bayes': GaussianNB(),\n",
    "    'Linear SVM': LinearSVC(),\n",
    "    'Kernel SVM': SVC(),\n",
    "    'XGBoost': GradientBoostingClassifier()\n",
    "}\n",
    "\n",
    "results = {\n",
    "    'time_to_train': [],\n",
    "    'accuracy': [],\n",
    "    'f1': []\n",
    "}\n",
    "\n",
    "\n",
    "for name, model in list(models.items()):\n",
    "    start_time = time.time()\n",
    "    \n",
    "    model.fit(Xtr_tv, Ytr_le.values.ravel())\n",
    "    \n",
    "    end_time = time.time()\n",
    "    \n",
    "    Ypred = model.predict(Xva_tv)\n",
    "    \n",
    "    results['time_to_train'].append(end_time - start_time)\n",
    "    results['accuracy'].append(accuracy_score(Yva_le, Ypred))\n",
    "    results['f1'].append(f1_score(Yva_le, Ypred, average=None))\n",
    "    \n",
    "display(pd.DataFrame(results['time_to_train'], index=models.keys(), columns=['Time (seconds)']))\n",
    "\n",
    "display(pd.DataFrame(results['accuracy'], index=models.keys(), columns=['Accuracy']))\n",
    "\n",
    "display(pd.DataFrame(np.asarray(results['f1']).T, columns=models.keys(), index=le.classes_))"
   ]
  },
  {
   "cell_type": "code",
   "execution_count": null,
   "metadata": {},
   "outputs": [],
   "source": []
  }
 ],
 "metadata": {
  "kernelspec": {
   "display_name": "Python 3",
   "language": "python",
   "name": "python3"
  },
  "language_info": {
   "codemirror_mode": {
    "name": "ipython",
    "version": 3
   },
   "file_extension": ".py",
   "mimetype": "text/x-python",
   "name": "python",
   "nbconvert_exporter": "python",
   "pygments_lexer": "ipython3",
   "version": "3.7.6"
  }
 },
 "nbformat": 4,
 "nbformat_minor": 4
}
