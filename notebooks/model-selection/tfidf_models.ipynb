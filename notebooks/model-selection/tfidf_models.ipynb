{
 "cells": [
  {
   "cell_type": "code",
   "execution_count": 1,
   "metadata": {},
   "outputs": [
    {
     "name": "stderr",
     "output_type": "stream",
     "text": [
      "[nltk_data] Downloading package punkt to\n",
      "[nltk_data]     C:\\Users\\NganLuong\\AppData\\Roaming\\nltk_data...\n",
      "[nltk_data]   Package punkt is already up-to-date!\n"
     ]
    },
    {
     "data": {
      "text/plain": [
       "True"
      ]
     },
     "execution_count": 1,
     "metadata": {},
     "output_type": "execute_result"
    }
   ],
   "source": [
    "import nltk\n",
    "nltk.download('punkt')"
   ]
  },
  {
   "cell_type": "code",
   "execution_count": 1,
   "metadata": {},
   "outputs": [],
   "source": [
    "import sys\n",
    "sys.path.insert(0, '../../scripts/')"
   ]
  },
  {
   "cell_type": "code",
   "execution_count": 2,
   "metadata": {},
   "outputs": [],
   "source": [
    "# import required packages\n",
    "import numpy as np\n",
    "import pandas as pd\n",
    "\n",
    "# encoder\n",
    "from sklearn.preprocessing import LabelEncoder\n",
    "from sklearn.feature_extraction.text import TfidfVectorizer\n",
    "\n",
    "# models\n",
    "from sklearn.svm import LinearSVC, SVC\n",
    "from sklearn.naive_bayes import GaussianNB\n",
    "from sklearn.ensemble import GradientBoostingClassifier\n",
    "\n",
    "# metrics\n",
    "import time\n",
    "from sklearn.metrics import accuracy_score, confusion_matrix, f1_score\n",
    "\n",
    "# plots\n",
    "import matplotlib.pyplot as plt\n",
    "import seaborn as sns\n",
    "sns.set_style(\"whitegrid\")\n",
    "\n",
    "# local scripts\n",
    "from text_utils import preprocess_corpus"
   ]
  },
  {
   "cell_type": "code",
   "execution_count": 3,
   "metadata": {},
   "outputs": [],
   "source": [
    "df_train = pd.read_csv(r'../../data/train_data.csv', delimiter=None)\n",
    "df_valid = pd.read_csv(r'../../data/valid_data.csv', delimiter=None)\n",
    "\n",
    "df_valid['clean_tweet'] = preprocess_corpus(df_valid['tweet_text'])\n",
    "\n",
    "Xtr, Ytr = df_train[\"clean_tweet\"], df_train[\"cyberbullying_type\"]\n",
    "Xva, Yva = df_valid[\"clean_tweet\"], df_valid[\"cyberbullying_type\"]"
   ]
  },
  {
   "cell_type": "code",
   "execution_count": 4,
   "metadata": {},
   "outputs": [
    {
     "data": {
      "text/plain": [
       "23764    although smollet lie awful rare incident relat...\n",
       "14047    camlafontaine put woman room lawwwwd know coul...\n",
       "1474     size girl bullied ugly girl high school belly ...\n",
       "12371    ever call ugly got female stocking life findin...\n",
       "14481                           ashleylynch join oapi site\n",
       "Name: clean_tweet, dtype: object"
      ]
     },
     "execution_count": 4,
     "metadata": {},
     "output_type": "execute_result"
    }
   ],
   "source": [
    "Xtr.sample(5)"
   ]
  },
  {
   "cell_type": "code",
   "execution_count": 5,
   "metadata": {},
   "outputs": [
    {
     "data": {
      "text/plain": [
       "1253             ethnicity\n",
       "25867                  age\n",
       "14677    not_cyberbullying\n",
       "3787              religion\n",
       "24428             religion\n",
       "Name: cyberbullying_type, dtype: object"
      ]
     },
     "execution_count": 5,
     "metadata": {},
     "output_type": "execute_result"
    }
   ],
   "source": [
    "Ytr.sample(5)"
   ]
  },
  {
   "cell_type": "code",
   "execution_count": 6,
   "metadata": {},
   "outputs": [
    {
     "data": {
      "text/plain": [
       "3263    remember hot girl bullied high school cry ecst...\n",
       "5298    kirindave player love make dig wow old wow old...\n",
       "2162    charsibhangi gawd still people talking pay dat...\n",
       "3836           see said barack hussein never muslim idiot\n",
       "9433    sarahschwartz woman died domestic violence las...\n",
       "Name: clean_tweet, dtype: object"
      ]
     },
     "execution_count": 6,
     "metadata": {},
     "output_type": "execute_result"
    }
   ],
   "source": [
    "Xva.sample(5)"
   ]
  },
  {
   "cell_type": "code",
   "execution_count": 7,
   "metadata": {},
   "outputs": [
    {
     "data": {
      "text/plain": [
       "2778          age\n",
       "6311          age\n",
       "3139    ethnicity\n",
       "763     ethnicity\n",
       "881     ethnicity\n",
       "Name: cyberbullying_type, dtype: object"
      ]
     },
     "execution_count": 7,
     "metadata": {},
     "output_type": "execute_result"
    }
   ],
   "source": [
    "Yva.sample(5)"
   ]
  },
  {
   "cell_type": "code",
   "execution_count": 8,
   "metadata": {},
   "outputs": [],
   "source": [
    "# vectorize tweet texts\n",
    "tv = TfidfVectorizer()\n",
    "\n",
    "vectors = tv.fit_transform(Xtr.values.astype('U'))\n",
    "Xtr_tv = pd.DataFrame(vectors.toarray(), columns=tv.get_feature_names())\n",
    "\n",
    "vectors = tv.transform(Xva.values.astype('U'))\n",
    "Xva_tv = pd.DataFrame(vectors.toarray(), columns=tv.get_feature_names())"
   ]
  },
  {
   "cell_type": "code",
   "execution_count": 9,
   "metadata": {},
   "outputs": [],
   "source": [
    "le = LabelEncoder()\n",
    "\n",
    "Ytr_le = pd.DataFrame(le.fit_transform(Ytr),columns=['encoded_cyberbullying_type'])\n",
    "\n",
    "Yva_le = pd.DataFrame(le.transform(Yva),columns=['encoded_cyberbullying_type'])"
   ]
  },
  {
   "cell_type": "code",
   "execution_count": 10,
   "metadata": {},
   "outputs": [
    {
     "name": "stdout",
     "output_type": "stream",
     "text": [
      "(28614, 36281) (28614, 1)\n",
      "(9539, 36281) (9539, 1)\n"
     ]
    }
   ],
   "source": [
    "print(Xtr_tv.shape, Ytr_le.shape)\n",
    "print(Xva_tv.shape, Yva_le.shape)"
   ]
  },
  {
   "cell_type": "code",
   "execution_count": 11,
   "metadata": {},
   "outputs": [
    {
     "data": {
      "text/html": [
       "<div>\n",
       "<style scoped>\n",
       "    .dataframe tbody tr th:only-of-type {\n",
       "        vertical-align: middle;\n",
       "    }\n",
       "\n",
       "    .dataframe tbody tr th {\n",
       "        vertical-align: top;\n",
       "    }\n",
       "\n",
       "    .dataframe thead th {\n",
       "        text-align: right;\n",
       "    }\n",
       "</style>\n",
       "<table border=\"1\" class=\"dataframe\">\n",
       "  <thead>\n",
       "    <tr style=\"text-align: right;\">\n",
       "      <th></th>\n",
       "      <th>aaa</th>\n",
       "      <th>aaaa</th>\n",
       "      <th>aaaaaaaaaa</th>\n",
       "      <th>aaaaaaaaaaaaaaaaaaaaaah</th>\n",
       "      <th>aaaaaaaaaah</th>\n",
       "      <th>aaaaaaaaaajajajajajajajahahahajahaja</th>\n",
       "      <th>aaaaah</th>\n",
       "      <th>aaaaargh</th>\n",
       "      <th>aaaag</th>\n",
       "      <th>aaaah</th>\n",
       "      <th>...</th>\n",
       "      <th>zusterschap</th>\n",
       "      <th>zvakaoma</th>\n",
       "      <th>zvlahos</th>\n",
       "      <th>zyampii</th>\n",
       "      <th>zyeth</th>\n",
       "      <th>zyme</th>\n",
       "      <th>zynga</th>\n",
       "      <th>zython</th>\n",
       "      <th>zzoegrimm</th>\n",
       "      <th>zzz</th>\n",
       "    </tr>\n",
       "  </thead>\n",
       "  <tbody>\n",
       "    <tr>\n",
       "      <th>7647</th>\n",
       "      <td>0.0</td>\n",
       "      <td>0.0</td>\n",
       "      <td>0.0</td>\n",
       "      <td>0.0</td>\n",
       "      <td>0.0</td>\n",
       "      <td>0.0</td>\n",
       "      <td>0.0</td>\n",
       "      <td>0.0</td>\n",
       "      <td>0.0</td>\n",
       "      <td>0.0</td>\n",
       "      <td>...</td>\n",
       "      <td>0.0</td>\n",
       "      <td>0.0</td>\n",
       "      <td>0.0</td>\n",
       "      <td>0.0</td>\n",
       "      <td>0.0</td>\n",
       "      <td>0.0</td>\n",
       "      <td>0.0</td>\n",
       "      <td>0.0</td>\n",
       "      <td>0.0</td>\n",
       "      <td>0.0</td>\n",
       "    </tr>\n",
       "    <tr>\n",
       "      <th>430</th>\n",
       "      <td>0.0</td>\n",
       "      <td>0.0</td>\n",
       "      <td>0.0</td>\n",
       "      <td>0.0</td>\n",
       "      <td>0.0</td>\n",
       "      <td>0.0</td>\n",
       "      <td>0.0</td>\n",
       "      <td>0.0</td>\n",
       "      <td>0.0</td>\n",
       "      <td>0.0</td>\n",
       "      <td>...</td>\n",
       "      <td>0.0</td>\n",
       "      <td>0.0</td>\n",
       "      <td>0.0</td>\n",
       "      <td>0.0</td>\n",
       "      <td>0.0</td>\n",
       "      <td>0.0</td>\n",
       "      <td>0.0</td>\n",
       "      <td>0.0</td>\n",
       "      <td>0.0</td>\n",
       "      <td>0.0</td>\n",
       "    </tr>\n",
       "    <tr>\n",
       "      <th>21115</th>\n",
       "      <td>0.0</td>\n",
       "      <td>0.0</td>\n",
       "      <td>0.0</td>\n",
       "      <td>0.0</td>\n",
       "      <td>0.0</td>\n",
       "      <td>0.0</td>\n",
       "      <td>0.0</td>\n",
       "      <td>0.0</td>\n",
       "      <td>0.0</td>\n",
       "      <td>0.0</td>\n",
       "      <td>...</td>\n",
       "      <td>0.0</td>\n",
       "      <td>0.0</td>\n",
       "      <td>0.0</td>\n",
       "      <td>0.0</td>\n",
       "      <td>0.0</td>\n",
       "      <td>0.0</td>\n",
       "      <td>0.0</td>\n",
       "      <td>0.0</td>\n",
       "      <td>0.0</td>\n",
       "      <td>0.0</td>\n",
       "    </tr>\n",
       "    <tr>\n",
       "      <th>27669</th>\n",
       "      <td>0.0</td>\n",
       "      <td>0.0</td>\n",
       "      <td>0.0</td>\n",
       "      <td>0.0</td>\n",
       "      <td>0.0</td>\n",
       "      <td>0.0</td>\n",
       "      <td>0.0</td>\n",
       "      <td>0.0</td>\n",
       "      <td>0.0</td>\n",
       "      <td>0.0</td>\n",
       "      <td>...</td>\n",
       "      <td>0.0</td>\n",
       "      <td>0.0</td>\n",
       "      <td>0.0</td>\n",
       "      <td>0.0</td>\n",
       "      <td>0.0</td>\n",
       "      <td>0.0</td>\n",
       "      <td>0.0</td>\n",
       "      <td>0.0</td>\n",
       "      <td>0.0</td>\n",
       "      <td>0.0</td>\n",
       "    </tr>\n",
       "    <tr>\n",
       "      <th>7125</th>\n",
       "      <td>0.0</td>\n",
       "      <td>0.0</td>\n",
       "      <td>0.0</td>\n",
       "      <td>0.0</td>\n",
       "      <td>0.0</td>\n",
       "      <td>0.0</td>\n",
       "      <td>0.0</td>\n",
       "      <td>0.0</td>\n",
       "      <td>0.0</td>\n",
       "      <td>0.0</td>\n",
       "      <td>...</td>\n",
       "      <td>0.0</td>\n",
       "      <td>0.0</td>\n",
       "      <td>0.0</td>\n",
       "      <td>0.0</td>\n",
       "      <td>0.0</td>\n",
       "      <td>0.0</td>\n",
       "      <td>0.0</td>\n",
       "      <td>0.0</td>\n",
       "      <td>0.0</td>\n",
       "      <td>0.0</td>\n",
       "    </tr>\n",
       "  </tbody>\n",
       "</table>\n",
       "<p>5 rows × 36281 columns</p>\n",
       "</div>"
      ],
      "text/plain": [
       "       aaa  aaaa  aaaaaaaaaa  aaaaaaaaaaaaaaaaaaaaaah  aaaaaaaaaah  \\\n",
       "7647   0.0   0.0         0.0                      0.0          0.0   \n",
       "430    0.0   0.0         0.0                      0.0          0.0   \n",
       "21115  0.0   0.0         0.0                      0.0          0.0   \n",
       "27669  0.0   0.0         0.0                      0.0          0.0   \n",
       "7125   0.0   0.0         0.0                      0.0          0.0   \n",
       "\n",
       "       aaaaaaaaaajajajajajajajahahahajahaja  aaaaah  aaaaargh  aaaag  aaaah  \\\n",
       "7647                                    0.0     0.0       0.0    0.0    0.0   \n",
       "430                                     0.0     0.0       0.0    0.0    0.0   \n",
       "21115                                   0.0     0.0       0.0    0.0    0.0   \n",
       "27669                                   0.0     0.0       0.0    0.0    0.0   \n",
       "7125                                    0.0     0.0       0.0    0.0    0.0   \n",
       "\n",
       "       ...  zusterschap  zvakaoma  zvlahos  zyampii  zyeth  zyme  zynga  \\\n",
       "7647   ...          0.0       0.0      0.0      0.0    0.0   0.0    0.0   \n",
       "430    ...          0.0       0.0      0.0      0.0    0.0   0.0    0.0   \n",
       "21115  ...          0.0       0.0      0.0      0.0    0.0   0.0    0.0   \n",
       "27669  ...          0.0       0.0      0.0      0.0    0.0   0.0    0.0   \n",
       "7125   ...          0.0       0.0      0.0      0.0    0.0   0.0    0.0   \n",
       "\n",
       "       zython  zzoegrimm  zzz  \n",
       "7647      0.0        0.0  0.0  \n",
       "430       0.0        0.0  0.0  \n",
       "21115     0.0        0.0  0.0  \n",
       "27669     0.0        0.0  0.0  \n",
       "7125      0.0        0.0  0.0  \n",
       "\n",
       "[5 rows x 36281 columns]"
      ]
     },
     "execution_count": 11,
     "metadata": {},
     "output_type": "execute_result"
    }
   ],
   "source": [
    "Xtr_tv.sample(5)"
   ]
  },
  {
   "cell_type": "code",
   "execution_count": 12,
   "metadata": {},
   "outputs": [
    {
     "data": {
      "text/html": [
       "<div>\n",
       "<style scoped>\n",
       "    .dataframe tbody tr th:only-of-type {\n",
       "        vertical-align: middle;\n",
       "    }\n",
       "\n",
       "    .dataframe tbody tr th {\n",
       "        vertical-align: top;\n",
       "    }\n",
       "\n",
       "    .dataframe thead th {\n",
       "        text-align: right;\n",
       "    }\n",
       "</style>\n",
       "<table border=\"1\" class=\"dataframe\">\n",
       "  <thead>\n",
       "    <tr style=\"text-align: right;\">\n",
       "      <th></th>\n",
       "      <th>encoded_cyberbullying_type</th>\n",
       "    </tr>\n",
       "  </thead>\n",
       "  <tbody>\n",
       "    <tr>\n",
       "      <th>12152</th>\n",
       "      <td>5</td>\n",
       "    </tr>\n",
       "    <tr>\n",
       "      <th>22160</th>\n",
       "      <td>5</td>\n",
       "    </tr>\n",
       "    <tr>\n",
       "      <th>8568</th>\n",
       "      <td>0</td>\n",
       "    </tr>\n",
       "    <tr>\n",
       "      <th>17549</th>\n",
       "      <td>3</td>\n",
       "    </tr>\n",
       "    <tr>\n",
       "      <th>6771</th>\n",
       "      <td>5</td>\n",
       "    </tr>\n",
       "  </tbody>\n",
       "</table>\n",
       "</div>"
      ],
      "text/plain": [
       "       encoded_cyberbullying_type\n",
       "12152                           5\n",
       "22160                           5\n",
       "8568                            0\n",
       "17549                           3\n",
       "6771                            5"
      ]
     },
     "execution_count": 12,
     "metadata": {},
     "output_type": "execute_result"
    }
   ],
   "source": [
    "Ytr_le.sample(5)"
   ]
  },
  {
   "cell_type": "code",
   "execution_count": 13,
   "metadata": {},
   "outputs": [],
   "source": [
    "models = {\n",
    "    'Gaussian Naive Bayes': GaussianNB(),\n",
    "    'Linear SVM': LinearSVC(),\n",
    "    'Kernel SVM': SVC(),\n",
    "    'XGBoost': GradientBoostingClassifier()\n",
    "}\n",
    "\n",
    "results = {\n",
    "    'time_to_train': [],\n",
    "    'accuracy': [],\n",
    "    'f1': []\n",
    "}"
   ]
  },
  {
   "cell_type": "code",
   "execution_count": 15,
   "metadata": {},
   "outputs": [
    {
     "name": "stdout",
     "output_type": "stream",
     "text": [
      "Running model Gaussian Naive Bayes\n"
     ]
    }
   ],
   "source": [
    "name, model = list(models.items())[0]\n",
    "print(\"Running model\", name)\n",
    "start_time = time.time()\n",
    "\n",
    "model.fit(Xtr_tv, Ytr_le.values.ravel())\n",
    "\n",
    "end_time = time.time()\n",
    "\n",
    "Ypred = model.predict(Xva_tv)\n",
    "\n",
    "results['time_to_train'].append(end_time - start_time)\n",
    "results['accuracy'].append(accuracy_score(Yva_le, Ypred))\n",
    "results['f1'].append(f1_score(Yva_le, Ypred, average=None))"
   ]
  },
  {
   "cell_type": "code",
   "execution_count": 16,
   "metadata": {},
   "outputs": [
    {
     "name": "stdout",
     "output_type": "stream",
     "text": [
      "Running model Linear SVM\n"
     ]
    }
   ],
   "source": [
    "name, model = list(models.items())[1]\n",
    "print(\"Running model\", name)\n",
    "start_time = time.time()\n",
    "\n",
    "model.fit(Xtr_tv, Ytr_le.values.ravel())\n",
    "\n",
    "end_time = time.time()\n",
    "\n",
    "Ypred = model.predict(Xva_tv)\n",
    "\n",
    "results['time_to_train'].append(end_time - start_time)\n",
    "results['accuracy'].append(accuracy_score(Yva_le, Ypred))\n",
    "results['f1'].append(f1_score(Yva_le, Ypred, average=None))"
   ]
  },
  {
   "cell_type": "code",
   "execution_count": null,
   "metadata": {},
   "outputs": [
    {
     "name": "stdout",
     "output_type": "stream",
     "text": [
      "Running model Kernel SVM\n"
     ]
    }
   ],
   "source": [
    "name, model = list(models.items())[2]\n",
    "print(\"Running model\", name)\n",
    "start_time = time.time()\n",
    "\n",
    "model.fit(Xtr_tv, Ytr_le.values.ravel())\n",
    "\n",
    "end_time = time.time()\n",
    "\n",
    "Ypred = model.predict(Xva_tv)\n",
    "\n",
    "results['time_to_train'].append(end_time - start_time)\n",
    "results['accuracy'].append(accuracy_score(Yva_le, Ypred))\n",
    "results['f1'].append(f1_score(Yva_le, Ypred, average=None))"
   ]
  },
  {
   "cell_type": "code",
   "execution_count": 19,
   "metadata": {},
   "outputs": [
    {
     "data": {
      "text/html": [
       "<div>\n",
       "<style scoped>\n",
       "    .dataframe tbody tr th:only-of-type {\n",
       "        vertical-align: middle;\n",
       "    }\n",
       "\n",
       "    .dataframe tbody tr th {\n",
       "        vertical-align: top;\n",
       "    }\n",
       "\n",
       "    .dataframe thead th {\n",
       "        text-align: right;\n",
       "    }\n",
       "</style>\n",
       "<table border=\"1\" class=\"dataframe\">\n",
       "  <thead>\n",
       "    <tr style=\"text-align: right;\">\n",
       "      <th></th>\n",
       "      <th>Time (seconds)</th>\n",
       "    </tr>\n",
       "  </thead>\n",
       "  <tbody>\n",
       "    <tr>\n",
       "      <th>Gaussian Naive Bayes</th>\n",
       "      <td>47.486894</td>\n",
       "    </tr>\n",
       "    <tr>\n",
       "      <th>Linear SVM</th>\n",
       "      <td>8.633816</td>\n",
       "    </tr>\n",
       "  </tbody>\n",
       "</table>\n",
       "</div>"
      ],
      "text/plain": [
       "                      Time (seconds)\n",
       "Gaussian Naive Bayes       47.486894\n",
       "Linear SVM                  8.633816"
      ]
     },
     "metadata": {},
     "output_type": "display_data"
    },
    {
     "data": {
      "text/html": [
       "<div>\n",
       "<style scoped>\n",
       "    .dataframe tbody tr th:only-of-type {\n",
       "        vertical-align: middle;\n",
       "    }\n",
       "\n",
       "    .dataframe tbody tr th {\n",
       "        vertical-align: top;\n",
       "    }\n",
       "\n",
       "    .dataframe thead th {\n",
       "        text-align: right;\n",
       "    }\n",
       "</style>\n",
       "<table border=\"1\" class=\"dataframe\">\n",
       "  <thead>\n",
       "    <tr style=\"text-align: right;\">\n",
       "      <th></th>\n",
       "      <th>Accuracy</th>\n",
       "    </tr>\n",
       "  </thead>\n",
       "  <tbody>\n",
       "    <tr>\n",
       "      <th>Gaussian Naive Bayes</th>\n",
       "      <td>0.472901</td>\n",
       "    </tr>\n",
       "    <tr>\n",
       "      <th>Linear SVM</th>\n",
       "      <td>0.822099</td>\n",
       "    </tr>\n",
       "  </tbody>\n",
       "</table>\n",
       "</div>"
      ],
      "text/plain": [
       "                      Accuracy\n",
       "Gaussian Naive Bayes  0.472901\n",
       "Linear SVM            0.822099"
      ]
     },
     "metadata": {},
     "output_type": "display_data"
    },
    {
     "data": {
      "text/html": [
       "<div>\n",
       "<style scoped>\n",
       "    .dataframe tbody tr th:only-of-type {\n",
       "        vertical-align: middle;\n",
       "    }\n",
       "\n",
       "    .dataframe tbody tr th {\n",
       "        vertical-align: top;\n",
       "    }\n",
       "\n",
       "    .dataframe thead th {\n",
       "        text-align: right;\n",
       "    }\n",
       "</style>\n",
       "<table border=\"1\" class=\"dataframe\">\n",
       "  <thead>\n",
       "    <tr style=\"text-align: right;\">\n",
       "      <th></th>\n",
       "      <th>Gaussian Naive Bayes</th>\n",
       "      <th>Linear SVM</th>\n",
       "    </tr>\n",
       "  </thead>\n",
       "  <tbody>\n",
       "    <tr>\n",
       "      <th>age</th>\n",
       "      <td>0.460770</td>\n",
       "      <td>0.955860</td>\n",
       "    </tr>\n",
       "    <tr>\n",
       "      <th>ethnicity</th>\n",
       "      <td>0.529801</td>\n",
       "      <td>0.974774</td>\n",
       "    </tr>\n",
       "    <tr>\n",
       "      <th>gender</th>\n",
       "      <td>0.408263</td>\n",
       "      <td>0.874381</td>\n",
       "    </tr>\n",
       "    <tr>\n",
       "      <th>not_cyberbullying</th>\n",
       "      <td>0.279797</td>\n",
       "      <td>0.549191</td>\n",
       "    </tr>\n",
       "    <tr>\n",
       "      <th>other_cyberbullying</th>\n",
       "      <td>0.476570</td>\n",
       "      <td>0.590761</td>\n",
       "    </tr>\n",
       "    <tr>\n",
       "      <th>religion</th>\n",
       "      <td>0.639565</td>\n",
       "      <td>0.949819</td>\n",
       "    </tr>\n",
       "  </tbody>\n",
       "</table>\n",
       "</div>"
      ],
      "text/plain": [
       "                     Gaussian Naive Bayes  Linear SVM\n",
       "age                              0.460770    0.955860\n",
       "ethnicity                        0.529801    0.974774\n",
       "gender                           0.408263    0.874381\n",
       "not_cyberbullying                0.279797    0.549191\n",
       "other_cyberbullying              0.476570    0.590761\n",
       "religion                         0.639565    0.949819"
      ]
     },
     "metadata": {},
     "output_type": "display_data"
    }
   ],
   "source": [
    "display(pd.DataFrame(results['time_to_train'], index=list(models.keys())[:2], columns=['Time (seconds)']))\n",
    "\n",
    "display(pd.DataFrame(results['accuracy'], index=list(models.keys())[:2], columns=['Accuracy']))\n",
    "\n",
    "display(pd.DataFrame(np.asarray(results['f1']).T, columns=list(models.keys())[:2], index=le.classes_))"
   ]
  },
  {
   "cell_type": "code",
   "execution_count": null,
   "metadata": {},
   "outputs": [],
   "source": []
  }
 ],
 "metadata": {
  "kernelspec": {
   "display_name": "Python 3",
   "language": "python",
   "name": "python3"
  },
  "language_info": {
   "codemirror_mode": {
    "name": "ipython",
    "version": 3
   },
   "file_extension": ".py",
   "mimetype": "text/x-python",
   "name": "python",
   "nbconvert_exporter": "python",
   "pygments_lexer": "ipython3",
   "version": "3.7.6"
  }
 },
 "nbformat": 4,
 "nbformat_minor": 4
}
