{
 "cells": [
  {
   "cell_type": "code",
   "execution_count": 56,
   "id": "a273c881",
   "metadata": {},
   "outputs": [],
   "source": [
    "import pandas as pd\n",
    "\n",
    "from nltk.tokenize import word_tokenize\n",
    "from nltk.stem import WordNetLemmatizer\n",
    "from nltk.corpus import wordnet\n",
    "\n",
    "from nltk.tag import pos_tag"
   ]
  },
  {
   "cell_type": "code",
   "execution_count": 5,
   "id": "482c560e",
   "metadata": {},
   "outputs": [
    {
     "data": {
      "text/html": [
       "<div>\n",
       "<style scoped>\n",
       "    .dataframe tbody tr th:only-of-type {\n",
       "        vertical-align: middle;\n",
       "    }\n",
       "\n",
       "    .dataframe tbody tr th {\n",
       "        vertical-align: top;\n",
       "    }\n",
       "\n",
       "    .dataframe thead th {\n",
       "        text-align: right;\n",
       "    }\n",
       "</style>\n",
       "<table border=\"1\" class=\"dataframe\">\n",
       "  <thead>\n",
       "    <tr style=\"text-align: right;\">\n",
       "      <th></th>\n",
       "      <th>tweet_text</th>\n",
       "      <th>cyberbullying_type</th>\n",
       "    </tr>\n",
       "  </thead>\n",
       "  <tbody>\n",
       "    <tr>\n",
       "      <th>0</th>\n",
       "      <td>In other words #katandandre, your food was cra...</td>\n",
       "      <td>not_cyberbullying</td>\n",
       "    </tr>\n",
       "    <tr>\n",
       "      <th>1</th>\n",
       "      <td>Why is #aussietv so white? #MKR #theblock #ImA...</td>\n",
       "      <td>not_cyberbullying</td>\n",
       "    </tr>\n",
       "    <tr>\n",
       "      <th>2</th>\n",
       "      <td>@XochitlSuckkks a classy whore? Or more red ve...</td>\n",
       "      <td>not_cyberbullying</td>\n",
       "    </tr>\n",
       "    <tr>\n",
       "      <th>3</th>\n",
       "      <td>@Jason_Gio meh. :P  thanks for the heads up, b...</td>\n",
       "      <td>not_cyberbullying</td>\n",
       "    </tr>\n",
       "    <tr>\n",
       "      <th>4</th>\n",
       "      <td>@RudhoeEnglish This is an ISIS account pretend...</td>\n",
       "      <td>not_cyberbullying</td>\n",
       "    </tr>\n",
       "  </tbody>\n",
       "</table>\n",
       "</div>"
      ],
      "text/plain": [
       "                                          tweet_text cyberbullying_type\n",
       "0  In other words #katandandre, your food was cra...  not_cyberbullying\n",
       "1  Why is #aussietv so white? #MKR #theblock #ImA...  not_cyberbullying\n",
       "2  @XochitlSuckkks a classy whore? Or more red ve...  not_cyberbullying\n",
       "3  @Jason_Gio meh. :P  thanks for the heads up, b...  not_cyberbullying\n",
       "4  @RudhoeEnglish This is an ISIS account pretend...  not_cyberbullying"
      ]
     },
     "execution_count": 5,
     "metadata": {},
     "output_type": "execute_result"
    }
   ],
   "source": [
    "df = pd.read_csv('../data/cyberbullying_tweets.csv')\n",
    "df.head()"
   ]
  },
  {
   "cell_type": "code",
   "execution_count": 69,
   "id": "9d9adb37",
   "metadata": {},
   "outputs": [
    {
     "name": "stdout",
     "output_type": "stream",
     "text": [
      "@franosch They were left to the Iraqi army for the defense of the nation. Some people have to stretch for a way to blame US for everything.\n",
      "\n",
      "['@', 'franosch', 'They', 'were', 'left', 'to', 'the', 'Iraqi', 'army', 'for', 'the', 'defense', 'of', 'the', 'nation', '.', 'Some', 'people', 'have', 'to', 'stretch', 'for', 'a', 'way', 'to', 'blame', 'US', 'for', 'everything', '.']\n",
      "\n",
      "['franosch', 'They', 'were', 'left', 'to', 'the', 'Iraqi', 'army', 'for', 'the', 'defense', 'of', 'the', 'nation', 'Some', 'people', 'have', 'to', 'stretch', 'for', 'way', 'to', 'blame', 'US', 'for', 'everything']\n",
      "\n",
      "['franosch', 'They', 'were', 'left', 'to', 'the', 'Iraqi', 'army', 'for', 'the', 'defense', 'of', 'the', 'nation', 'Some', 'people', 'have', 'to', 'stretch', 'for', 'way', 'to', 'blame', 'US', 'for', 'everything']\n",
      "\n",
      "[('franosch', 'NN'), ('They', 'PRP'), ('were', 'VBD'), ('left', 'VBN'), ('to', 'TO'), ('the', 'DT'), ('Iraqi', 'NNP'), ('army', 'NN'), ('for', 'IN'), ('the', 'DT'), ('defense', 'NN'), ('of', 'IN'), ('the', 'DT'), ('nation', 'NN'), ('Some', 'DT'), ('people', 'NNS'), ('have', 'VBP'), ('to', 'TO'), ('stretch', 'VB'), ('for', 'IN'), ('way', 'NN'), ('to', 'TO'), ('blame', 'VB'), ('US', 'NNP'), ('for', 'IN'), ('everything', 'NN')]\n",
      "\n",
      "['franosch', 'They', 'be', 'leave', 'to', 'the', 'Iraqi', 'army', 'for', 'the', 'defense', 'of', 'the', 'nation', 'Some', 'people', 'have', 'to', 'stretch', 'for', 'way', 'to', 'blame', 'US', 'for', 'everything']\n"
     ]
    }
   ],
   "source": [
    "text = df.loc[888,'tweet_text']\n",
    "print(text, end='\\n\\n')\n",
    "\n",
    "# tokenize text\n",
    "text = word_tokenize(text)\n",
    "print(text, end='\\n\\n')\n",
    "\n",
    "# remove punctuations\n",
    "text = [word for word in text if len(word)>1]\n",
    "print(text, end='\\n\\n')\n",
    "\n",
    "# lemmatization without pos tagging\n",
    "lemmatizer = WordNetLemmatizer()\n",
    "text_lem1 = [lemmatizer.lemmatize(word) for word in text]\n",
    "print(text_lem1, end='\\n\\n')\n",
    "\n",
    "# pos tagging tokens\n",
    "text = pos_tag(text)\n",
    "print(text, end='\\n\\n')\n",
    "\n",
    "# lemmatization with pos tagging\n",
    "text = [lemmatizer.lemmatize(word, get_wordnet_pos(tag)) for word, tag in text]\n",
    "print(text)"
   ]
  },
  {
   "cell_type": "code",
   "execution_count": 59,
   "id": "f56af082",
   "metadata": {},
   "outputs": [],
   "source": [
    "def get_wordnet_pos(treebank_tag):\n",
    "    \n",
    "    if treebank_tag.startswith('J'):\n",
    "        return wordnet.ADJ\n",
    "    elif treebank_tag.startswith('V'):\n",
    "        return wordnet.VERB\n",
    "    elif treebank_tag.startswith('N'):\n",
    "        return wordnet.NOUN\n",
    "    elif treebank_tag.startswith('R'):\n",
    "        return wordnet.ADV\n",
    "    else:\n",
    "        return wordnet.NOUN"
   ]
  }
 ],
 "metadata": {
  "kernelspec": {
   "display_name": "Python 3 (ipykernel)",
   "language": "python",
   "name": "python3"
  },
  "language_info": {
   "codemirror_mode": {
    "name": "ipython",
    "version": 3
   },
   "file_extension": ".py",
   "mimetype": "text/x-python",
   "name": "python",
   "nbconvert_exporter": "python",
   "pygments_lexer": "ipython3",
   "version": "3.10.4"
  }
 },
 "nbformat": 4,
 "nbformat_minor": 5
}
