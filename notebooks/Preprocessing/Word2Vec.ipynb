{
 "cells": [
  {
   "cell_type": "code",
   "execution_count": 6,
   "id": "5494d649",
   "metadata": {},
   "outputs": [],
   "source": [
    "# import pandas as pd\n",
    "# from gensim.models import Word2Vec\n",
    "from gensim.utils import simple_preprocess"
   ]
  },
  {
   "cell_type": "code",
   "execution_count": 3,
   "id": "2631213c",
   "metadata": {},
   "outputs": [
    {
     "data": {
      "text/html": [
       "<div>\n",
       "<style scoped>\n",
       "    .dataframe tbody tr th:only-of-type {\n",
       "        vertical-align: middle;\n",
       "    }\n",
       "\n",
       "    .dataframe tbody tr th {\n",
       "        vertical-align: top;\n",
       "    }\n",
       "\n",
       "    .dataframe thead th {\n",
       "        text-align: right;\n",
       "    }\n",
       "</style>\n",
       "<table border=\"1\" class=\"dataframe\">\n",
       "  <thead>\n",
       "    <tr style=\"text-align: right;\">\n",
       "      <th></th>\n",
       "      <th>clean_tweet</th>\n",
       "      <th>cyberbullying_type</th>\n",
       "    </tr>\n",
       "  </thead>\n",
       "  <tbody>\n",
       "    <tr>\n",
       "      <th>0</th>\n",
       "      <td>hate ppl high school used bully hot omg love m...</td>\n",
       "      <td>age</td>\n",
       "    </tr>\n",
       "    <tr>\n",
       "      <th>1</th>\n",
       "      <td>kat andre asshole omg mkr</td>\n",
       "      <td>not_cyberbullying</td>\n",
       "    </tr>\n",
       "    <tr>\n",
       "      <th>2</th>\n",
       "      <td>new access trading cause need high level opini...</td>\n",
       "      <td>age</td>\n",
       "    </tr>\n",
       "    <tr>\n",
       "      <th>3</th>\n",
       "      <td>fuck david duke racist think america belong du...</td>\n",
       "      <td>ethnicity</td>\n",
       "    </tr>\n",
       "    <tr>\n",
       "      <th>4</th>\n",
       "      <td>may say lot hate apologetic army hope choke ev...</td>\n",
       "      <td>other_cyberbullying</td>\n",
       "    </tr>\n",
       "    <tr>\n",
       "      <th>5</th>\n",
       "      <td>breanichole rapeisntokay made gay joke rape jo...</td>\n",
       "      <td>gender</td>\n",
       "    </tr>\n",
       "    <tr>\n",
       "      <th>6</th>\n",
       "      <td>hindustan time report gay rape joke taken obje...</td>\n",
       "      <td>gender</td>\n",
       "    </tr>\n",
       "    <tr>\n",
       "      <th>7</th>\n",
       "      <td>willy real man know able cook one attractive q...</td>\n",
       "      <td>gender</td>\n",
       "    </tr>\n",
       "    <tr>\n",
       "      <th>8</th>\n",
       "      <td>notallmen evolving notallmen evolved blameonen...</td>\n",
       "      <td>gender</td>\n",
       "    </tr>\n",
       "    <tr>\n",
       "      <th>9</th>\n",
       "      <td>anirban stupid mamata regime hundred bjp worke...</td>\n",
       "      <td>religion</td>\n",
       "    </tr>\n",
       "  </tbody>\n",
       "</table>\n",
       "</div>"
      ],
      "text/plain": [
       "                                         clean_tweet   cyberbullying_type\n",
       "0  hate ppl high school used bully hot omg love m...                  age\n",
       "1                          kat andre asshole omg mkr    not_cyberbullying\n",
       "2  new access trading cause need high level opini...                  age\n",
       "3  fuck david duke racist think america belong du...            ethnicity\n",
       "4  may say lot hate apologetic army hope choke ev...  other_cyberbullying\n",
       "5  breanichole rapeisntokay made gay joke rape jo...               gender\n",
       "6  hindustan time report gay rape joke taken obje...               gender\n",
       "7  willy real man know able cook one attractive q...               gender\n",
       "8  notallmen evolving notallmen evolved blameonen...               gender\n",
       "9  anirban stupid mamata regime hundred bjp worke...             religion"
      ]
     },
     "execution_count": 3,
     "metadata": {},
     "output_type": "execute_result"
    }
   ],
   "source": [
    "df = pd.read_csv('../../data/train_data.csv')\n",
    "df.head(10)"
   ]
  },
  {
   "cell_type": "code",
   "execution_count": 9,
   "id": "6bca0432",
   "metadata": {},
   "outputs": [
    {
     "data": {
      "text/plain": [
       "(28614, 2)"
      ]
     },
     "execution_count": 9,
     "metadata": {},
     "output_type": "execute_result"
    }
   ],
   "source": [
    "df.shape"
   ]
  },
  {
   "cell_type": "code",
   "execution_count": 13,
   "id": "ab3bfa3d",
   "metadata": {},
   "outputs": [
    {
     "data": {
      "text/plain": [
       "dtype('O')"
      ]
     },
     "execution_count": 13,
     "metadata": {},
     "output_type": "execute_result"
    }
   ],
   "source": [
    "df.clean_tweet = df.clean_tweet.astype(str)\n",
    "df.clean_tweet.dtype"
   ]
  },
  {
   "cell_type": "code",
   "execution_count": 16,
   "id": "36c92b4e",
   "metadata": {},
   "outputs": [],
   "source": [
    "# replacing null values with empty string\n",
    "# to fix decoder error\n",
    "df.clean_tweet = df.clean_tweet.fillna('')"
   ]
  },
  {
   "cell_type": "code",
   "execution_count": 7,
   "id": "364712ca",
   "metadata": {},
   "outputs": [
    {
     "data": {
      "text/plain": [
       "['hate',\n",
       " 'ppl',\n",
       " 'high',\n",
       " 'school',\n",
       " 'used',\n",
       " 'bully',\n",
       " 'hot',\n",
       " 'omg',\n",
       " 'love',\n",
       " 'makeup',\n",
       " 'get',\n",
       " 'ring',\n",
       " 'wan',\n",
       " 'sometime',\n",
       " 'fuck']"
      ]
     },
     "execution_count": 7,
     "metadata": {},
     "output_type": "execute_result"
    }
   ],
   "source": [
    "simple_preprocess(df.clean_tweet[0])"
   ]
  },
  {
   "cell_type": "code",
   "execution_count": 19,
   "id": "93a58c3a",
   "metadata": {},
   "outputs": [
    {
     "data": {
      "text/plain": [
       "0    [hate, ppl, high, school, used, bully, hot, om...\n",
       "1                      [kat, andre, asshole, omg, mkr]\n",
       "2    [new, access, trading, cause, need, high, leve...\n",
       "3    [fuck, david, duke, racist, think, america, be...\n",
       "4    [may, say, lot, hate, apologetic, army, hope, ...\n",
       "Name: clean_tweet, dtype: object"
      ]
     },
     "metadata": {},
     "output_type": "display_data"
    }
   ],
   "source": [
    "tweets = df.clean_tweet.apply(simple_preprocess)\n",
    "tweets.head()"
   ]
  },
  {
   "cell_type": "code",
   "execution_count": 20,
   "id": "e89ae7ab",
   "metadata": {},
   "outputs": [],
   "source": [
    "# spawning a Word2Vec model\n",
    "model = Word2Vec(window=5, min_count=2)\n",
    "\n",
    "# building vocabulary from entire corpus\n",
    "model.build_vocab(tweets, progress_per=250)"
   ]
  },
  {
   "cell_type": "code",
   "execution_count": 26,
   "id": "05680104",
   "metadata": {},
   "outputs": [
    {
     "data": {
      "text/plain": [
       "(100, 3, 5, 28614, 363508)"
      ]
     },
     "execution_count": 26,
     "metadata": {},
     "output_type": "execute_result"
    }
   ],
   "source": [
    "model.vector_size, model.workers, model.epochs, model.corpus_count, model.corpus_total_words"
   ]
  },
  {
   "cell_type": "code",
   "execution_count": 31,
   "id": "7e54c193",
   "metadata": {},
   "outputs": [
    {
     "data": {
      "text/plain": [
       "(1528260, 1817540)"
      ]
     },
     "execution_count": 31,
     "metadata": {},
     "output_type": "execute_result"
    }
   ],
   "source": [
    "# training the word2vec\n",
    "model.train(tweets, total_examples=model.corpus_count, epochs=5)"
   ]
  }
 ],
 "metadata": {
  "kernelspec": {
   "display_name": "Python 3 (ipykernel)",
   "language": "python",
   "name": "python3"
  },
  "language_info": {
   "codemirror_mode": {
    "name": "ipython",
    "version": 3
   },
   "file_extension": ".py",
   "mimetype": "text/x-python",
   "name": "python",
   "nbconvert_exporter": "python",
   "pygments_lexer": "ipython3",
   "version": "3.10.4"
  }
 },
 "nbformat": 4,
 "nbformat_minor": 5
}
